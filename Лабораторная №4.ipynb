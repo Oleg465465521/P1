{
  "cells": [
    {
      "cell_type": "markdown",
      "metadata": {
        "id": "qmwsXGtf8NpV"
      },
      "source": [
        "## Основы программирования в Python\n",
        "\n",
        "*Алла Тамбовцева, НИУ ВШЭ*\n",
        "\n",
        "## Семинар 4"
      ]
    },
    {
      "cell_type": "markdown",
      "metadata": {
        "id": "sEK024wF8Npb"
      },
      "source": [
        "### Задача 1\n",
        "\n",
        "Напишите программу, которая просит пользователя ввести положительное число, и если пользователь вводит положительное число, выводит на экран сообщение \"Молодец!\", если нет ‒ \"Это не положительное число.\".\n",
        "\n",
        "Считайте, что пользователь в любом случае вводит числа, а не какой-то текст."
      ]
    },
    {
      "cell_type": "code",
      "source": [
        "a = int(input('Введите положительное число: '))\n",
        "if a > 0:\n",
        "  print('Молодец')\n",
        "else: print('Это не положительное число')"
      ],
      "metadata": {
        "colab": {
          "base_uri": "https://localhost:8080/"
        },
        "id": "IlOj-2wt8XFO",
        "outputId": "1a59234d-dd7d-495e-ba7d-d86dcf0a9abf"
      },
      "execution_count": 3,
      "outputs": [
        {
          "output_type": "stream",
          "name": "stdout",
          "text": [
            "Введите положительное число: -9\n",
            "Это не положительное число\n"
          ]
        }
      ]
    },
    {
      "cell_type": "markdown",
      "metadata": {
        "id": "gzs25e2M8Npc"
      },
      "source": [
        "### Задача 2\n",
        "\n",
        "Напишите программу, которая принимает на вход список оценок студентов от 1 до 10, выводит на экран оценку, а после нее, с новой строки, комментарий \"Плохо\", \"Удовлетворительно\", \"Хорошо\", \"Отлично\" в зависимости от оценки."
      ]
    },
    {
      "cell_type": "code",
      "source": [
        "a = input('Введите оценки через пробел: ')\n",
        "b = a.split( )\n",
        "b = [int(i) for i in b]\n",
        "for i in b:\n",
        "  if i>8:\n",
        "    print('Отлично')\n",
        "  elif i>5:\n",
        "    print('Хорошо')\n",
        "  elif i>2:\n",
        "    print('Удовлетворительно')\n",
        "  else: print('Плохо')"
      ],
      "metadata": {
        "colab": {
          "base_uri": "https://localhost:8080/"
        },
        "id": "DZ07xaB79DvY",
        "outputId": "a3e17f86-12c4-4826-ecd0-263ea148a8df"
      },
      "execution_count": 10,
      "outputs": [
        {
          "output_type": "stream",
          "name": "stdout",
          "text": [
            "Введите оценки через пробел: 5 6 9 8 7 1\n",
            "Удовлетворительно\n",
            "Хорошо\n",
            "Отлично\n",
            "Хорошо\n",
            "Хорошо\n",
            "Плохо\n"
          ]
        }
      ]
    },
    {
      "cell_type": "markdown",
      "metadata": {
        "id": "yuDvjUFY8Npc"
      },
      "source": [
        "### Задача 3\n",
        "\n",
        "Напишите программу, которая запрашивает у пользователя пароль, и далее:\n",
        "\n",
        "- если пароль верный, выводит на экран сообщение \"Login success\".\n",
        "- если пароль неверный, выводит на экран сообщение \"Incorrect password, try again!\" до тех пор, пока пользователь не введет верный пароль."
      ]
    },
    {
      "cell_type": "code",
      "source": [
        "parol = 'apple'\n",
        "p = input('Введите пароль: ')\n",
        "if p == parol:\n",
        "  print('Login success')\n",
        "else: print('Incorrect password, try again!')"
      ],
      "metadata": {
        "colab": {
          "base_uri": "https://localhost:8080/"
        },
        "id": "T2CD4myNBNUL",
        "outputId": "905fa714-95eb-4d9e-ec97-7fbe25a29a51"
      },
      "execution_count": 13,
      "outputs": [
        {
          "output_type": "stream",
          "name": "stdout",
          "text": [
            "Введите пароль: apple\n",
            "Login success\n"
          ]
        }
      ]
    },
    {
      "cell_type": "markdown",
      "metadata": {
        "id": "_qQCLZ7h8Npd"
      },
      "source": [
        "### Задача 4\n",
        "\n",
        "У питона есть набор любимых чисел.\n",
        "\n",
        "    favorites = [3, 7, 11, 23, 18, 48, 81]\n",
        "\n",
        "Напишите программу, которая просит пользователя ввести целое число, и если оно нравится питону, на экран будет выводиться сообщение: \"Мое любимое число!\", если нет ‒ \"Эх, ну почему?\"."
      ]
    },
    {
      "cell_type": "code",
      "source": [
        "favorites = [3, 7, 11, 23, 18, 48, 81]\n",
        "a = int(input())\n",
        "if a in favorites:\n",
        "    print(\"Мое любимое число!\")\n",
        "else: print (\"Эх, ну почему?\")"
      ],
      "metadata": {
        "colab": {
          "base_uri": "https://localhost:8080/"
        },
        "id": "ecuD0rRdBw3U",
        "outputId": "dd67ab3b-148a-4103-f8ed-c43fe7315687"
      },
      "execution_count": 15,
      "outputs": [
        {
          "output_type": "stream",
          "name": "stdout",
          "text": [
            "3\n",
            "Мое любимое число!\n"
          ]
        }
      ]
    },
    {
      "cell_type": "markdown",
      "metadata": {
        "id": "Tk4T9VQ98Npd"
      },
      "source": [
        "### Задача 5\n",
        "\n",
        "Напишите программу, которая просит пользователя ввести число и, если оно чётное, выводит на экран сообщение: \"Это число чётное\", если нечётное ‒ \"Это число нечётное\"."
      ]
    },
    {
      "cell_type": "code",
      "source": [
        "a = int(input())\n",
        "if a%2 == 0:\n",
        "    print(\"Это число четное\")\n",
        "else: print (\"Это число нечетное\")"
      ],
      "metadata": {
        "colab": {
          "base_uri": "https://localhost:8080/"
        },
        "id": "UPFbtPsoCSBK",
        "outputId": "5ec33c60-d346-4ddb-f4d8-a99355c84d74"
      },
      "execution_count": 17,
      "outputs": [
        {
          "output_type": "stream",
          "name": "stdout",
          "text": [
            "58\n",
            "Это число четное\n"
          ]
        }
      ]
    },
    {
      "cell_type": "markdown",
      "metadata": {
        "id": "seHGbHOf8Npe"
      },
      "source": [
        "### Задача 6\n",
        "\n",
        "Напишите программу, которая просит пользователя ввести существительное, и если слово введено с большой буквы, то на экран выводится сообщение \"Это имя собственное.\", если с маленькой ‒ сообщение \"Это имя нарицательное\"."
      ]
    },
    {
      "cell_type": "code",
      "source": [
        "a = input('Введите существительное: ')\n",
        "b = a.lower()\n",
        "if a == b:\n",
        "    print(\"Это  имя нарицательное\")\n",
        "else: print (\"Это имя собственное\")"
      ],
      "metadata": {
        "colab": {
          "base_uri": "https://localhost:8080/"
        },
        "id": "b_-GiW-kB_vJ",
        "outputId": "892ebffc-2ee1-4e04-bb60-ad8aa42f4776"
      },
      "execution_count": 19,
      "outputs": [
        {
          "output_type": "stream",
          "name": "stdout",
          "text": [
            "Введите существительное: ОРыл\n",
            "Это имя собственное\n"
          ]
        }
      ]
    }
  ],
  "metadata": {
    "kernelspec": {
      "display_name": "Python 3",
      "language": "python",
      "name": "python3"
    },
    "language_info": {
      "codemirror_mode": {
        "name": "ipython",
        "version": 3
      },
      "file_extension": ".py",
      "mimetype": "text/x-python",
      "name": "python",
      "nbconvert_exporter": "python",
      "pygments_lexer": "ipython3",
      "version": "3.6.5"
    },
    "colab": {
      "name": "sem-23-04.ipynb",
      "provenance": []
    }
  },
  "nbformat": 4,
  "nbformat_minor": 0
}