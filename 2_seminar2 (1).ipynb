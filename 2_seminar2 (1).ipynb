{
  "cells": [
    {
      "cell_type": "markdown",
      "metadata": {
        "id": "IqE1FNlJYZrt"
      },
      "source": [
        "### Задание 0 (разминка)\n",
        "\n",
        "Даны два списка `a` и `b` (см. ниже).\n",
        "    \n",
        "1. Выведите на экран первый элемент списка `a`, третий элемент списка `a`, последний элемент списка `a`.\n",
        "2. Добавьте в список `b` элемент 7 (просто допишите в конец).\n",
        "3. Замените пятый элемент списка `a` на число 8.\n",
        "4. Создайте список `merged`, который включает в себя все элементы списка `a` и списка `b`.\n",
        "5. Создайте новый список `с`, который получается заменой последнего элемента списка `a` на число 100. Сам список `a` измениться не должен!"
      ]
    },
    {
      "cell_type": "code",
      "execution_count": 5,
      "metadata": {
        "id": "KDR0VBmwYZr3"
      },
      "outputs": [],
      "source": [
        "a = [1, 0, 9, 12, 18, 34, 89, 91, 33, 127]\n",
        "b = [2, 8, 9, 11, 76, 25, 44]"
      ]
    },
    {
      "cell_type": "code",
      "execution_count": 7,
      "metadata": {
        "colab": {
          "base_uri": "https://localhost:8080/"
        },
        "id": "0fvdpgT-YZr6",
        "outputId": "f27e5aea-5032-4e00-dfc6-6f313043e6aa"
      },
      "outputs": [
        {
          "output_type": "execute_result",
          "data": {
            "text/plain": [
              "(1, 9, 127)"
            ]
          },
          "metadata": {},
          "execution_count": 7
        }
      ],
      "source": [
        "(a[0], a[2], a[9])"
      ]
    },
    {
      "cell_type": "code",
      "source": [
        "b.append(7)\n",
        "a[4]=8"
      ],
      "metadata": {
        "id": "QwJtiEBgZJ5K"
      },
      "execution_count": 8,
      "outputs": []
    },
    {
      "cell_type": "code",
      "source": [
        "merged = a + b"
      ],
      "metadata": {
        "id": "NoMssrqPZyBs"
      },
      "execution_count": 9,
      "outputs": []
    },
    {
      "cell_type": "code",
      "source": [
        "c = a\n",
        "c[9] = 100\n"
      ],
      "metadata": {
        "id": "UJQNhLMsZ6dz"
      },
      "execution_count": 11,
      "outputs": []
    },
    {
      "cell_type": "markdown",
      "metadata": {
        "id": "IpWkdWGuYZr8"
      },
      "source": [
        "### Задание 1 (девочковое)\n",
        "\n",
        "Есть список имен:"
      ]
    },
    {
      "cell_type": "code",
      "execution_count": 15,
      "metadata": {
        "id": "Z3q6-1ewYZr9"
      },
      "outputs": [],
      "source": [
        "girls = [\"Иветта\", \"Виолетта\", \"Кассандра\", \"Вирджиния\", \n",
        "         \"Амелия\", \"Розамунда\", \"Янина\", \"Беатриса\"]"
      ]
    },
    {
      "cell_type": "markdown",
      "metadata": {
        "id": "PZNzI-7wYZr9"
      },
      "source": [
        "Используя список `girls`, выведите на экран следующие списки:\n",
        "\n",
        "    [\"Виолетта\", \"Кассандра\", \"Вирджиния\", \"Амелия\"]\n",
        "    [\"Вирджиния\", \"Амелия\", \"Розамунда\", \"Янина\", \"Беатриса\"]\n",
        "    [\"Иветта\", \"Виолетта\", \"Вирджиния\", \"Амелия\"]\n",
        "    [\"Кассандра\", \"Амелия\", \"Розамунда\"]"
      ]
    },
    {
      "cell_type": "code",
      "execution_count": 18,
      "metadata": {
        "colab": {
          "base_uri": "https://localhost:8080/"
        },
        "id": "s5b_I7KLYZr-",
        "outputId": "69740be2-d0e9-4d22-838a-b4c011799dc6"
      },
      "outputs": [
        {
          "output_type": "stream",
          "name": "stdout",
          "text": [
            "Виолетта Кассандра Вирджиния Амелия\n",
            "Вирджиния Амелия Розамунда Янина Беатриса\n",
            "Иветта Виолетта Вирджиния Амелия\n",
            "Кассандра Амелия Розамунда\n"
          ]
        }
      ],
      "source": [
        "print(girls[1], girls[2], girls[3], girls[4])\n",
        "print(girls[3], girls[4], girls[5], girls[6], girls[7])\n",
        "print(girls[0], girls[1], girls[3], girls[4])\n",
        "print(girls[2], girls[4], girls[5])"
      ]
    },
    {
      "cell_type": "markdown",
      "metadata": {
        "id": "hFlvmp_gYZsA"
      },
      "source": [
        "### Задание 2 (поэлементное) \n",
        "\n",
        "Дан список `L`. Выведите на экран (последовательно, с новой строчки): \n",
        "\n",
        "* все элементы списка `L`\n",
        "* логарифмированные значения элементов списка `L`"
      ]
    },
    {
      "cell_type": "code",
      "execution_count": 19,
      "metadata": {
        "id": "XLuv0Q0zYZsC"
      },
      "outputs": [],
      "source": [
        "L = [12, 3, 8, 125, 10, 98, 54, 199]"
      ]
    },
    {
      "cell_type": "code",
      "execution_count": 20,
      "metadata": {
        "colab": {
          "base_uri": "https://localhost:8080/"
        },
        "id": "fz9_Nya_YZsD",
        "outputId": "c7570085-4006-409d-a0b1-c42e6d308ac3"
      },
      "outputs": [
        {
          "output_type": "stream",
          "name": "stdout",
          "text": [
            "12\n",
            "3\n",
            "8\n",
            "125\n",
            "10\n",
            "98\n",
            "54\n",
            "199\n",
            "2.4849066497880004\n",
            "1.0986122886681098\n",
            "2.0794415416798357\n",
            "4.8283137373023015\n",
            "2.302585092994046\n",
            "4.584967478670572\n",
            "3.9889840465642745\n",
            "5.293304824724492\n"
          ]
        }
      ],
      "source": [
        "for i in L:\n",
        "    print(i)\n",
        "import math\n",
        "for i in L:\n",
        "    print(math.log(i))"
      ]
    },
    {
      "cell_type": "markdown",
      "metadata": {
        "id": "43a48TyhYZsE"
      },
      "source": [
        "Замените пятый элемент списка `L` на 0. Проделайте те же операции, что и раньше. Объясните, почему получаются такие результаты."
      ]
    },
    {
      "cell_type": "code",
      "source": [
        "L[4] = 0\n",
        "for i in L:\n",
        "    print(i)\n",
        "import math\n",
        "for i in L:\n",
        "    print(math.log(i))"
      ],
      "metadata": {
        "colab": {
          "base_uri": "https://localhost:8080/",
          "height": 419
        },
        "id": "0ZEl97a5bciR",
        "outputId": "62475a28-b1c8-45f8-d50a-3aea24c8424a"
      },
      "execution_count": 22,
      "outputs": [
        {
          "output_type": "stream",
          "name": "stdout",
          "text": [
            "12\n",
            "3\n",
            "8\n",
            "125\n",
            "0\n",
            "98\n",
            "54\n",
            "199\n",
            "2.4849066497880004\n",
            "1.0986122886681098\n",
            "2.0794415416798357\n",
            "4.8283137373023015\n"
          ]
        },
        {
          "output_type": "error",
          "ename": "ValueError",
          "evalue": "ignored",
          "traceback": [
            "\u001b[0;31m---------------------------------------------------------------------------\u001b[0m",
            "\u001b[0;31mValueError\u001b[0m                                Traceback (most recent call last)",
            "\u001b[0;32m<ipython-input-22-1086c68bc2f5>\u001b[0m in \u001b[0;36m<module>\u001b[0;34m()\u001b[0m\n\u001b[1;32m      4\u001b[0m \u001b[0;32mimport\u001b[0m \u001b[0mmath\u001b[0m\u001b[0;34m\u001b[0m\u001b[0;34m\u001b[0m\u001b[0m\n\u001b[1;32m      5\u001b[0m \u001b[0;32mfor\u001b[0m \u001b[0mi\u001b[0m \u001b[0;32min\u001b[0m \u001b[0mL\u001b[0m\u001b[0;34m:\u001b[0m\u001b[0;34m\u001b[0m\u001b[0;34m\u001b[0m\u001b[0m\n\u001b[0;32m----> 6\u001b[0;31m     \u001b[0mprint\u001b[0m\u001b[0;34m(\u001b[0m\u001b[0mmath\u001b[0m\u001b[0;34m.\u001b[0m\u001b[0mlog\u001b[0m\u001b[0;34m(\u001b[0m\u001b[0mi\u001b[0m\u001b[0;34m)\u001b[0m\u001b[0;34m)\u001b[0m\u001b[0;34m\u001b[0m\u001b[0;34m\u001b[0m\u001b[0m\n\u001b[0m",
            "\u001b[0;31mValueError\u001b[0m: math domain error"
          ]
        }
      ]
    },
    {
      "cell_type": "markdown",
      "metadata": {
        "id": "29p8nRRjYZsF"
      },
      "source": [
        "### Задание 3 (демографическое)\n",
        "\n",
        "В списке `age` сохранены значения возраста респондентов: \n",
        "\n",
        "    age = [24, 35, 42, 27, 45, 48, 33]\n",
        "    \n",
        "Создайте список `age2`, в котором будут храниться значения возраста, возведенные в квадрат.\n",
        "\n",
        "**Подсказка:** используйте цикл *for*."
      ]
    },
    {
      "cell_type": "code",
      "execution_count": 25,
      "metadata": {
        "id": "viwZcUo4YZsG"
      },
      "outputs": [],
      "source": [
        "age = [24, 35, 42, 27, 45, 48, 33]\n",
        "age2 = []"
      ]
    },
    {
      "cell_type": "code",
      "execution_count": 32,
      "metadata": {
        "colab": {
          "base_uri": "https://localhost:8080/"
        },
        "id": "ndxvo3YCYZsH",
        "outputId": "e51b9438-a06d-44c9-8565-281997dee3f1"
      },
      "outputs": [
        {
          "output_type": "stream",
          "name": "stdout",
          "text": [
            "576\n",
            "1225\n",
            "1764\n",
            "729\n",
            "2025\n",
            "2304\n",
            "1089\n",
            "1333735776850284124449081472843776\n",
            "1102507499354148695951786433413508348166942596435546875\n",
            "150130937545296572356771972164254457814047970568738777235893533016064\n",
            "443426488243037769948249630619149892803\n",
            "248063644451341145494649182395412689744530581492654164321720600128173828125\n",
            "500702078263459319174537025249570888246709955377400223021257741084821677152403456\n",
            "129110040087761027839616029934664535539337183380513\n",
            "1333735776850284124449081472843776\n",
            "1102507499354148695951786433413508348166942596435546875\n",
            "150130937545296572356771972164254457814047970568738777235893533016064\n",
            "443426488243037769948249630619149892803\n",
            "248063644451341145494649182395412689744530581492654164321720600128173828125\n",
            "500702078263459319174537025249570888246709955377400223021257741084821677152403456\n",
            "129110040087761027839616029934664535539337183380513\n",
            "1333735776850284124449081472843776\n",
            "1102507499354148695951786433413508348166942596435546875\n",
            "150130937545296572356771972164254457814047970568738777235893533016064\n",
            "443426488243037769948249630619149892803\n",
            "248063644451341145494649182395412689744530581492654164321720600128173828125\n",
            "500702078263459319174537025249570888246709955377400223021257741084821677152403456\n",
            "129110040087761027839616029934664535539337183380513\n",
            "1333735776850284124449081472843776\n",
            "1102507499354148695951786433413508348166942596435546875\n",
            "150130937545296572356771972164254457814047970568738777235893533016064\n",
            "443426488243037769948249630619149892803\n",
            "248063644451341145494649182395412689744530581492654164321720600128173828125\n",
            "500702078263459319174537025249570888246709955377400223021257741084821677152403456\n",
            "129110040087761027839616029934664535539337183380513\n",
            "1333735776850284124449081472843776\n",
            "1102507499354148695951786433413508348166942596435546875\n",
            "150130937545296572356771972164254457814047970568738777235893533016064\n",
            "443426488243037769948249630619149892803\n",
            "248063644451341145494649182395412689744530581492654164321720600128173828125\n",
            "500702078263459319174537025249570888246709955377400223021257741084821677152403456\n",
            "129110040087761027839616029934664535539337183380513\n"
          ]
        }
      ],
      "source": [
        "for i in age:\n",
        "    age2.append(i**i)\n",
        "for i in age2:\n",
        "    print(i)"
      ]
    },
    {
      "cell_type": "markdown",
      "metadata": {
        "id": "geE2EpdaYZsI"
      },
      "source": [
        "### Задание 4 (игровое)\n",
        "\n",
        "Питон просит пользователя загадать (ввести с клавиатуры) целое число $k$ от 1 до 10. Питон берет это число $k$ и выводит на экран $k$-тый элемент списка `numbers`, причем $k$-ый элемент в привычном понимании, в нумерации, которая начинается с единицы.  \n",
        "\n",
        "Список `numbers`:"
      ]
    },
    {
      "cell_type": "code",
      "execution_count": 34,
      "metadata": {
        "id": "JjIGoiyaYZsJ"
      },
      "outputs": [],
      "source": [
        "numbers = [1, 5, 6, 8, 10, 21, 25, 1, 0, -9, 9]"
      ]
    },
    {
      "cell_type": "code",
      "source": [
        "a = input()\n",
        "a = int(a)\n",
        "print(numbers[a-1])"
      ],
      "metadata": {
        "colab": {
          "base_uri": "https://localhost:8080/"
        },
        "id": "Xq469bNScVZe",
        "outputId": "308b47c2-aec8-4e1b-c572-79a42f0afbe8"
      },
      "execution_count": 38,
      "outputs": [
        {
          "output_type": "stream",
          "name": "stdout",
          "text": [
            "2\n",
            "5\n"
          ]
        }
      ]
    },
    {
      "cell_type": "markdown",
      "metadata": {
        "id": "8D3kV5g3YZsK"
      },
      "source": [
        "**Пояснение:**\n",
        "    \n",
        "*Входные данные:*\n",
        "\n",
        "    Введите целое число от 1 до 10: 3\n",
        "    \n",
        "*Выходные данные:*\n",
        "\n",
        "    6"
      ]
    },
    {
      "cell_type": "markdown",
      "metadata": {
        "id": "lP8QGd2ZYZsL"
      },
      "source": [
        "### Задание 5 (числовое)\n",
        "\n",
        "У питона есть набор любимых чисел.\n",
        "\n",
        "    favorites = [3, 7, 11, 23, 18, 48, 81]\n",
        "\n",
        "Напишите программу, которая просит пользователя ввести целое число, и если оно нравится питону, на экран будет выводиться сообщение: \"Мое любимое число!\", если нет ‒ \"Эх, ну почему?\".\n",
        "\n",
        "*Подсказка:* чтобы проверить, принадлежит ли некоторый объект элементам списка, можно воспользоваться оператором *in*."
      ]
    },
    {
      "cell_type": "code",
      "source": [
        "favorites = [3, 7, 11, 23, 18, 48, 81]\n",
        "a = int(input())\n",
        "if a in favorites:\n",
        "    print(\"Мое любимое число!\")\n",
        "else: print (\"Эх, ну почему?\")    "
      ],
      "metadata": {
        "colab": {
          "base_uri": "https://localhost:8080/"
        },
        "id": "_C1kIzv-czxi",
        "outputId": "b99854f0-d721-4447-fb85-0166c9f44be4"
      },
      "execution_count": 42,
      "outputs": [
        {
          "output_type": "stream",
          "name": "stdout",
          "text": [
            "44\n",
            "Эх, ну почему?\n"
          ]
        }
      ]
    },
    {
      "cell_type": "markdown",
      "metadata": {
        "id": "EIo4A63yYZsM"
      },
      "source": [
        "### Задание 6 (четное)\n",
        "\n",
        "Напишите программу, которая просит пользователя ввести число и, если оно чётное, выводит на экран сообщение: \"Это число чётное\", если нечётное ‒ \"Это число нечётное\".\n",
        "\n",
        "*Подсказка:* используйте оператор `%` для определения остатка от деления."
      ]
    },
    {
      "cell_type": "code",
      "source": [
        "a = int(input())\n",
        "if a%2 == 0:\n",
        "    print(\"Это число четное\")\n",
        "else: print (\"Это число нечетное\")  "
      ],
      "metadata": {
        "colab": {
          "base_uri": "https://localhost:8080/"
        },
        "id": "2SJh5nwIde7X",
        "outputId": "075ac186-6ea5-4466-9819-d5b98128bc4c"
      },
      "execution_count": 48,
      "outputs": [
        {
          "output_type": "stream",
          "name": "stdout",
          "text": [
            "68\n",
            "Это число четное\n"
          ]
        }
      ]
    },
    {
      "cell_type": "markdown",
      "metadata": {
        "id": "vemRM3JSYZsU"
      },
      "source": [
        "### Задание 7 (музыкальное)\n",
        "\n",
        "Напишите программу, которая принимает на вход список слов такого вида:\n",
        "\n",
        "    words = [\"Speak \",\"to\", \"me \", \"of\", \"Florence\" ,\"And \", \"of\", \"the\", \"Renaissance\"]\n",
        "\n",
        "а возвращает список\n",
        "\n",
        "    words_clean = [\"speak\", \"to\", \"me\", \"of\", \"florence\", \"and\", \"of\", \"the\", \"renaissance\"]\n",
        "\n",
        "Другими словами, программа убирает пробелы в словах и приводит все слова к нижнему регистру. Эту задачу можно решить через циклы, но в Python есть такая полезная вещь как списковые включения. Они работают быстрее, чем циклы, и создавать новые списки на основе старых очень удобно. Прочитать про них можно [здесь](http://pythontutor.ru/lessons/lists/#section_3) и [здесь](https://nbviewer.jupyter.org/github/allatambov/Py-programming-3/blob/master/20-04/lecture-lists-contd.ipynb).\n",
        "\n",
        "**Подсказка:** запросите `help()`  по  методам `.strip()` и `.lower()`."
      ]
    },
    {
      "cell_type": "code",
      "source": [
        "words = [\"Speak \",\"to\", \"me \", \"of\", \"Florence\" ,\"And \", \"of\", \"the\", \"Renaissance\"]\n",
        "a = [words[i].strip() for i in range(len(words))]\n",
        "a = [a[i].lower() for i in range(len(a))]\n",
        "a"
      ],
      "metadata": {
        "colab": {
          "base_uri": "https://localhost:8080/"
        },
        "id": "-Ek4NvKcehLE",
        "outputId": "537cf153-e5af-4bd8-f127-02004934fa57"
      },
      "execution_count": 73,
      "outputs": [
        {
          "output_type": "execute_result",
          "data": {
            "text/plain": [
              "['speak', 'to', 'me', 'of', 'florence', 'and', 'of', 'the', 'renaissance']"
            ]
          },
          "metadata": {},
          "execution_count": 73
        }
      ]
    },
    {
      "cell_type": "markdown",
      "metadata": {
        "id": "tO-QD46zYZsV"
      },
      "source": [
        "### Задание 8 (секретное)\n",
        "\n",
        "Напишите программу, которая запрашивает у пользователя пароль, и далее:\n",
        "\n",
        "- если пароль верный, выводит на экран сообщение \"Login success\".\n",
        "- если пароль неверный, выводит на экран сообщение \"Incorrect password, try again!\" до тех пор, пока пользователь не введет верный пароль.\n",
        "\n",
        "Считайте, что верный пароль программе известен, то есть уже сохранен в некоторой переменной. "
      ]
    },
    {
      "cell_type": "code",
      "source": [
        "parol = \"09876\"\n",
        "a = input()\n",
        "if a == parol:\n",
        "    print(\"Login success\")\n",
        "else: print(\"Incorrect password, try again!\")"
      ],
      "metadata": {
        "colab": {
          "base_uri": "https://localhost:8080/"
        },
        "id": "8_XhucUyiC3Z",
        "outputId": "8dd35f8f-3c1c-4d04-a08a-ca1675c9aaa2"
      },
      "execution_count": 62,
      "outputs": [
        {
          "output_type": "stream",
          "name": "stdout",
          "text": [
            "09876\n",
            "Login success\n"
          ]
        }
      ]
    },
    {
      "cell_type": "markdown",
      "metadata": {
        "id": "1i5n0Gz0YZsV"
      },
      "source": [
        "### Задание 9 (функциональное)\n",
        "\n",
        "Напишите функцию `nums()`, которая принимает на вход целое число, а возвращает список из двух элементов: целое число, предшествующее принятому на вход, и число, следующее за ним.\n",
        "\n",
        "**Пример:**\n",
        "\n",
        "*Входные данные:*\n",
        "\n",
        "    7\n",
        "\n",
        "*Выходные данные:*\n",
        "\n",
        "    [6, 8]"
      ]
    },
    {
      "cell_type": "code",
      "source": [
        "def nums():\n",
        "  a = int(input())\n",
        "  b = a -1\n",
        "  c = a + 1\n",
        "  return b,c\n",
        "n = nums()\n",
        "n"
      ],
      "metadata": {
        "colab": {
          "base_uri": "https://localhost:8080/"
        },
        "id": "gAKHwUuHin4I",
        "outputId": "f5e4451e-d29e-4200-b030-3a90f0ccbc0c"
      },
      "execution_count": 68,
      "outputs": [
        {
          "name": "stdout",
          "output_type": "stream",
          "text": [
            "9\n"
          ]
        },
        {
          "output_type": "execute_result",
          "data": {
            "text/plain": [
              "(8, 10)"
            ]
          },
          "metadata": {},
          "execution_count": 68
        }
      ]
    },
    {
      "cell_type": "markdown",
      "metadata": {
        "id": "OA4V2h9uYZsV"
      },
      "source": [
        "### Задание 10 (счетное)\n",
        "\n",
        "Напишите функцию `my_log()`, которая принимает на вход список чисел, и возвращает список их натуральных логарифмов. Если число меньше или равно 0, на его месте в возвращаемом списке должно быть None.\n",
        "\n",
        "**Пример:**\n",
        "\n",
        "*Входные данные:*\n",
        "\n",
        "    [1, 3, 2.5, -1, 9, 0, 2.71]\n",
        "\n",
        "*Выходные данные:*\n",
        "\n",
        "    [0.0,\n",
        "     1.0986122886681098,\n",
        "     0.9162907318741551,\n",
        "     None,\n",
        "     2.1972245773362196,\n",
        "     None,\n",
        "     0.9969486348916096]"
      ]
    },
    {
      "cell_type": "code",
      "source": [
        "def my_log():\n",
        "  a = []\n",
        "  n = 7\n",
        "  for i in range(n):  \n",
        "    b = float(input())\n",
        "    a.append(b)\n",
        "  import math\n",
        "  for i in range(n):\n",
        "    if a[i] > 0:\n",
        "      a[i] = math.log(a[i])\n",
        "    else: a[i] = \"None\"\n",
        "  return a\n",
        "b = my_log()\n",
        "b\n"
      ],
      "metadata": {
        "colab": {
          "base_uri": "https://localhost:8080/"
        },
        "id": "JclGGYAAjt-L",
        "outputId": "204d9fa4-1707-4c9d-9949-2635e589df70"
      },
      "execution_count": 75,
      "outputs": [
        {
          "name": "stdout",
          "output_type": "stream",
          "text": [
            "1\n",
            "3\n",
            "2.5\n",
            "-1\n",
            "9\n",
            "0\n",
            "2.71\n"
          ]
        },
        {
          "output_type": "execute_result",
          "data": {
            "text/plain": [
              "[0.0,\n",
              " 1.0986122886681098,\n",
              " 0.9162907318741551,\n",
              " 'None',\n",
              " 2.1972245773362196,\n",
              " 'None',\n",
              " 0.9969486348916096]"
            ]
          },
          "metadata": {},
          "execution_count": 75
        }
      ]
    },
    {
      "cell_type": "markdown",
      "metadata": {
        "id": "pANEqyVmYZsW"
      },
      "source": [
        "### Задание 11 (зимнее)\n",
        "\n",
        "Напишите функцию `str_lower()`, которая принимает на вход строку (набор слов через пробел), а возвращает список ее элементов в нижнем регистре. \n",
        "\n",
        "**Пример:**\n",
        "\n",
        "*Входные данные:*\n",
        "\n",
        "    \"В лесу родилась ёлочка В лесу она росла\"\n",
        "\n",
        "*Выходные данные:*\n",
        "\n",
        "    ['в', 'лесу', 'родилась', 'ёлочка', 'в', 'лесу', 'она', 'росла']\n",
        "    \n",
        "*Подсказка:* для разбиение строки на части, познакомьтесь с методом `.split()` – запросите по нему `help()`."
      ]
    },
    {
      "cell_type": "code",
      "source": [
        "def str_lower():\n",
        "  a = input()\n",
        "  a = a.split()\n",
        "  a = [a[i].lower() for i in range(len(a))]\n",
        "  return a\n",
        "b = str_lower()\n",
        "b"
      ],
      "metadata": {
        "colab": {
          "base_uri": "https://localhost:8080/"
        },
        "id": "ra9q6zpqm3v3",
        "outputId": "773caf0f-a943-4472-cb35-e8a426b79586"
      },
      "execution_count": 77,
      "outputs": [
        {
          "name": "stdout",
          "output_type": "stream",
          "text": [
            "В лесу родилась ёлочка В лесу она росла\n"
          ]
        },
        {
          "output_type": "execute_result",
          "data": {
            "text/plain": [
              "['в', 'лесу', 'родилась', 'ёлочка', 'в', 'лесу', 'она', 'росла']"
            ]
          },
          "metadata": {},
          "execution_count": 77
        }
      ]
    }
  ],
  "metadata": {
    "kernelspec": {
      "display_name": "Python 3",
      "language": "python",
      "name": "python3"
    },
    "language_info": {
      "codemirror_mode": {
        "name": "ipython",
        "version": 3
      },
      "file_extension": ".py",
      "mimetype": "text/x-python",
      "name": "python",
      "nbconvert_exporter": "python",
      "pygments_lexer": "ipython3",
      "version": "3.6.5"
    },
    "colab": {
      "name": "2 - seminar2.ipynb",
      "provenance": []
    }
  },
  "nbformat": 4,
  "nbformat_minor": 0
}