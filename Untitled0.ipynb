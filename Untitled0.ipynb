{
  "nbformat": 4,
  "nbformat_minor": 0,
  "metadata": {
    "colab": {
      "name": "Untitled0.ipynb",
      "provenance": []
    },
    "kernelspec": {
      "name": "python3",
      "display_name": "Python 3"
    },
    "language_info": {
      "name": "python"
    }
  },
  "cells": [
    {
      "cell_type": "markdown",
      "source": [
        "Задача 1"
      ],
      "metadata": {
        "id": "j9yynh6YT1Ug"
      }
    },
    {
      "cell_type": "code",
      "source": [
        "def square():\n",
        "  a = int(input())\n",
        "  b = a ** 2\n",
        "  print('Квадрат числа равен: ', b)\n",
        "\n",
        "s = square()\n",
        "s"
      ],
      "metadata": {
        "colab": {
          "base_uri": "https://localhost:8080/"
        },
        "id": "Yw09aoJeT42_",
        "outputId": "c770ad18-e7a5-4991-82ae-5e610fedd396"
      },
      "execution_count": 17,
      "outputs": [
        {
          "output_type": "stream",
          "name": "stdout",
          "text": [
            "9\n",
            "Квадрат числа равен:  81\n"
          ]
        }
      ]
    },
    {
      "cell_type": "markdown",
      "source": [
        "Задача 2"
      ],
      "metadata": {
        "id": "2RzvLCJDT5We"
      }
    },
    {
      "cell_type": "code",
      "source": [
        "def nums():\n",
        "  a = int(input())\n",
        "  b = a - 1\n",
        "  c = a + 1\n",
        "  return b,c\n",
        "n = nums()\n",
        "n"
      ],
      "metadata": {
        "colab": {
          "base_uri": "https://localhost:8080/"
        },
        "id": "RNW5f9jMT5qT",
        "outputId": "69f1896b-9f69-412c-9562-6a03d6462a30"
      },
      "execution_count": 15,
      "outputs": [
        {
          "name": "stdout",
          "output_type": "stream",
          "text": [
            "7\n"
          ]
        },
        {
          "output_type": "execute_result",
          "data": {
            "text/plain": [
              "(6, 8)"
            ]
          },
          "metadata": {},
          "execution_count": 15
        }
      ]
    },
    {
      "cell_type": "markdown",
      "source": [
        "Задача 3"
      ],
      "metadata": {
        "id": "OPgE6wl7T54O"
      }
    },
    {
      "cell_type": "code",
      "source": [
        "def str_lower():\n",
        "    words = input()\n",
        "    a = words.split()\n",
        "    b = [a[i].strip() for i in range(len(a))]\n",
        "    c = [b[i].lower() for i in range(len(b))]\n",
        "    print(c)\n",
        "d = str_lower()\n",
        "d"
      ],
      "metadata": {
        "colab": {
          "base_uri": "https://localhost:8080/"
        },
        "id": "0mndH-MxT6Xd",
        "outputId": "2fb3e75e-e80f-4512-96aa-66839ae833db"
      },
      "execution_count": 12,
      "outputs": [
        {
          "output_type": "stream",
          "name": "stdout",
          "text": [
            "В лесу родилась елочка\n",
            "['в', 'лесу', 'родилась', 'елочка']\n"
          ]
        }
      ]
    },
    {
      "cell_type": "markdown",
      "source": [
        "Задача 4"
      ],
      "metadata": {
        "id": "U7-2KuzIWXvH"
      }
    },
    {
      "cell_type": "code",
      "source": [
        "a = input('Введите числа через пробел: ')\n",
        "b = a.split()\n",
        "import math\n",
        "c = [int(b[i]) for i in range(len(b))]\n",
        "for i in c:\n",
        "  if i > 0:\n",
        "    i = math.log(i, 10)\n",
        "    print(i)\n",
        "  else: print('None')\n"
      ],
      "metadata": {
        "colab": {
          "base_uri": "https://localhost:8080/"
        },
        "id": "XZK-B-BbWYAf",
        "outputId": "854e6b10-48d5-475d-98f8-3f45ee45c690"
      },
      "execution_count": 20,
      "outputs": [
        {
          "output_type": "stream",
          "name": "stdout",
          "text": [
            "Введите числа через пробел: 1 -5 8\n",
            "0.0\n",
            "None\n",
            "0.9030899869919434\n"
          ]
        }
      ]
    },
    {
      "cell_type": "markdown",
      "source": [
        "Задача 5"
      ],
      "metadata": {
        "id": "y7k0sQV3WYMT"
      }
    },
    {
      "cell_type": "code",
      "source": [
        "a = input(\"Введите имена: \")\n",
        "b = input(\"Введите возраст: \")\n",
        "c = a.split()\n",
        "d = b.split()\n",
        "if len(c) == len(d):\n",
        "    for i in range(len(c)):\n",
        "      print(c[i], d[i])\n",
        "else: print('Списки имеют разную длину')    "
      ],
      "metadata": {
        "colab": {
          "base_uri": "https://localhost:8080/"
        },
        "id": "eT8oBUDdWYfe",
        "outputId": "0f0fbf0e-c0d1-4839-83e8-7f3643f5f246"
      },
      "execution_count": 43,
      "outputs": [
        {
          "output_type": "stream",
          "name": "stdout",
          "text": [
            "Введите имена: Лена\n",
            "Введите возраст: 15 16\n",
            "Списки имеют разную длину\n"
          ]
        }
      ]
    },
    {
      "cell_type": "markdown",
      "source": [
        "Задача 6"
      ],
      "metadata": {
        "id": "HfUsnuzzWbj-"
      }
    },
    {
      "cell_type": "code",
      "source": [
        "def all_sort():\n",
        "    k = input()\n",
        "    l = k.split(',')\n",
        "    m = sorted(l)\n",
        "    print(m)\n",
        "\n",
        "u = all_sort()\n",
        "u \n",
        "\n",
        " "
      ],
      "metadata": {
        "colab": {
          "base_uri": "https://localhost:8080/"
        },
        "id": "lSRddXi0dmpX",
        "outputId": "84579ed6-0756-41b9-e59e-02f24a34f218"
      },
      "execution_count": 35,
      "outputs": [
        {
          "output_type": "stream",
          "name": "stdout",
          "text": [
            "7,5,9,1,0,3\n",
            "['0', '1', '3', '5', '7', '9']\n"
          ]
        }
      ]
    }
  ]
}