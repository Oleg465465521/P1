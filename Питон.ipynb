{
  "nbformat": 4,
  "nbformat_minor": 0,
  "metadata": {
    "kernelspec": {
      "display_name": "Python 3",
      "language": "python",
      "name": "python3"
    },
    "language_info": {
      "codemirror_mode": {
        "name": "ipython",
        "version": 3
      },
      "file_extension": ".py",
      "mimetype": "text/x-python",
      "name": "python",
      "nbconvert_exporter": "python",
      "pygments_lexer": "ipython3",
      "version": "3.6.5"
    },
    "colab": {
      "name": "Копия блокнота \"1 - seminar1 (1).ipynb\"",
      "provenance": [],
      "collapsed_sections": [
        "dYd7Nv7p4z7R",
        "Q0kc9OZQ4z7T",
        "Y8e85Lo64z7V",
        "bQny40Aq4z7W",
        "saM-YmCk4z7V",
        "JA_Sz1974z7W",
        "LsdLUrFG4z7W",
        "YW37bnpY4z7W",
        "fMzcBz-A4z7X"
      ]
    }
  },
  "cells": [
    {
      "cell_type": "markdown",
      "metadata": {
        "id": "dYd7Nv7p4z7R"
      },
      "source": [
        "### Задание 0 (вычислительное)\n",
        "\n",
        "Посчитайте:\n",
        "\n",
        "* $log(25)$, $log(exp(3))$, $log_{10}1000$\n",
        "* $\\pi^3$, $123^4$ \n",
        "* $\\sqrt{459}$"
      ]
    },
    {
      "cell_type": "code",
      "metadata": {
        "id": "dovQ3mhsCdJi"
      },
      "source": [
        "import math\n",
        "a = math.log(25)\n",
        "b = math.log10(1000)\n",
        "c = math.log(math.exp(3))\n",
        "d = math.pi**3\n",
        "e = 123**4\n",
        "F = math.sqrt(459)"
      ],
      "execution_count": null,
      "outputs": []
    },
    {
      "cell_type": "markdown",
      "metadata": {
        "id": "Q0kc9OZQ4z7T"
      },
      "source": [
        "### Задание 1 (стартовое)\n",
        "\n",
        "В переменных `a` и `b` хранятся некоторые числа. Напишите код, который бы менял значения переменных местами. Создавать новые переменные можно. \n",
        "\n",
        "**Пример:**"
      ]
    },
    {
      "cell_type": "code",
      "metadata": {
        "id": "VGrYZlpa4z7T"
      },
      "source": [
        "# до\n",
        "a = 2\n",
        "b = 5"
      ],
      "execution_count": null,
      "outputs": []
    },
    {
      "cell_type": "code",
      "metadata": {
        "id": "64bW9lkI4z7U"
      },
      "source": [
        "c=a\n",
        "a=b\n",
        "b=c"
      ],
      "execution_count": null,
      "outputs": []
    },
    {
      "cell_type": "code",
      "metadata": {
        "colab": {
          "base_uri": "https://localhost:8080/"
        },
        "id": "j5Z1XEJH4z7U",
        "outputId": "88791ad4-435b-4b2b-e3f4-cb6ddf467692"
      },
      "source": [
        "# после\n",
        "print(a)\n",
        "print(b)"
      ],
      "execution_count": null,
      "outputs": [
        {
          "output_type": "stream",
          "name": "stdout",
          "text": [
            "5\n",
            "2\n"
          ]
        }
      ]
    },
    {
      "cell_type": "markdown",
      "metadata": {
        "id": "Y8e85Lo64z7V"
      },
      "source": [
        "### Задание 2 (арифметическое)\n",
        "\n",
        "В переменных `a`, `b`, `c` хранятся какие-то числа. Напишите программу, которая считает их среднее арифметическое."
      ]
    },
    {
      "cell_type": "code",
      "metadata": {
        "id": "0AqSMsw84z7V"
      },
      "source": [
        "a = 1\n",
        "b = 2\n",
        "c = 3"
      ],
      "execution_count": null,
      "outputs": []
    },
    {
      "cell_type": "code",
      "metadata": {
        "id": "ery9hWV24z7V"
      },
      "source": [
        "d=(a+b+c)/3"
      ],
      "execution_count": null,
      "outputs": []
    },
    {
      "cell_type": "markdown",
      "metadata": {
        "id": "bQny40Aq4z7W"
      },
      "source": [
        "###  Задание 3 (финансовое)\n",
        "\n",
        "В переменной `salary` хранится значение заработной платы респондента в рублях (можете сами присвоить `salary` какое-нибудь значение).\n",
        "\n",
        "Напишите программу, которая выражает заработную плату респондента в тысячах рублей и\n",
        "\n",
        "a) просто выводит результат перевода в тысячи на экран;\n",
        "\n",
        "б) просто сохраняет результат в переменную `salary_th`;\n",
        "\n",
        "в) сохраняет результат в переменную `salary_th` и выводит результат на экран."
      ]
    },
    {
      "cell_type": "code",
      "metadata": {
        "colab": {
          "base_uri": "https://localhost:8080/"
        },
        "id": "Fgn7z9ULA6Ob",
        "outputId": "5ffa101d-fdd4-45de-db71-585df18ae35b"
      },
      "source": [
        "salary = 50000\n",
        "print(salary/1000)\n",
        "salary_th = salary/1000\n",
        "print(salary_th)"
      ],
      "execution_count": null,
      "outputs": [
        {
          "output_type": "stream",
          "name": "stdout",
          "text": [
            "50.0\n",
            "50.0\n"
          ]
        }
      ]
    },
    {
      "cell_type": "markdown",
      "metadata": {
        "id": "saM-YmCk4z7V"
      },
      "source": [
        "### Задание 3 (экономическое)\n",
        "\n",
        "Напишите программу, которая логарифмирует значение ВВП, которое хранится в переменной `gdp` и округляет результат до второго знака после запятой."
      ]
    },
    {
      "cell_type": "code",
      "metadata": {
        "colab": {
          "base_uri": "https://localhost:8080/"
        },
        "id": "Oo2jQZtu729T",
        "outputId": "5a6cffe5-862b-4d32-971f-f6f876974fa6"
      },
      "source": [
        "gdp = 106967500000000\n",
        "import math\n",
        "a = math.log(gdp,10)\n",
        "round(a, 2)\n"
      ],
      "execution_count": null,
      "outputs": [
        {
          "output_type": "execute_result",
          "data": {
            "text/plain": [
              "14.03"
            ]
          },
          "metadata": {},
          "execution_count": 30
        }
      ]
    },
    {
      "cell_type": "markdown",
      "metadata": {
        "id": "JA_Sz1974z7W"
      },
      "source": [
        "### Задание 4 (политологическое)\n",
        "\n",
        "В переменной `fh` хранится значение индекса политической свободы Freedom House, а в переменной `p`\n",
        "значение индекса Polity IV. Напишите программу, которая будет считать индекс Freedom:\n",
        "\n",
        "$Freedom = 0.4 \\cdot Freedom House + 0.6 \\cdot Polity IV$."
      ]
    },
    {
      "cell_type": "code",
      "metadata": {
        "colab": {
          "base_uri": "https://localhost:8080/"
        },
        "id": "_DBdjaqRBi8j",
        "outputId": "e06a0df1-2eee-4a67-d0e7-c030f21b672e"
      },
      "source": [
        "fh = 8.87\n",
        "p = 7.78\n",
        "f = 0.4*fh + 0.6*p\n",
        "print(f)"
      ],
      "execution_count": null,
      "outputs": [
        {
          "output_type": "stream",
          "name": "stdout",
          "text": [
            "8.216000000000001\n"
          ]
        }
      ]
    },
    {
      "cell_type": "markdown",
      "metadata": {
        "id": "LsdLUrFG4z7W"
      },
      "source": [
        "### Задание 5 (налоговое)\n",
        "\n",
        "Напишите программу, которая запрашивает у пользователя с клавиатуры\n",
        "изначальное значение заработной платы в рублях и выводит на экран сообщение: \n",
        "\n",
        "    Ваша заработная плата с учетом подоходного налога: n рублей.\n",
        "\n",
        "где `n` ‒ значение заработной платы с учетом подоходного налога (налоговая ставка 13%).\n",
        "\n",
        "Подсказка: для ввода информации с клавиатуры используйте функцию `input()`. Не забудьте учесть, что результат, который вводится через `input()` является строкой, а не числом. Примеры использования `input()` и более подробное знакомство с вводом-выводом в Python – см. [здесь](https://nbviewer.jupyter.org/github/allatambov/Py-programming-3/blob/master/06-04/lecture-input-output.ipynb)."
      ]
    },
    {
      "cell_type": "code",
      "metadata": {
        "colab": {
          "base_uri": "https://localhost:8080/"
        },
        "id": "mYk25Gdd76Sq",
        "outputId": "5a2e7f44-5585-47f4-ee66-5d1a6aa893fc"
      },
      "source": [
        "a = input()\n",
        "b = int(a)\n",
        "c = b*0.87\n",
        "print(\"Ваша заработная плата с учетом подоходного налога: \", c,\" рублей\")"
      ],
      "execution_count": null,
      "outputs": [
        {
          "output_type": "stream",
          "name": "stdout",
          "text": [
            "1000\n",
            "Ваша заработная плата с учетом подоходного налога:  870.0  рублей\n"
          ]
        }
      ]
    },
    {
      "cell_type": "markdown",
      "metadata": {
        "id": "YW37bnpY4z7W"
      },
      "source": [
        "### Задание 6 (весеннее)\n",
        "\n",
        "С приходом весны питон решил каждый день выползать погреться на солнышко. Однако он знал, что солнце весной довольно активное, и поэтому разработал такую схему: в первый день он греется одну минуту, а в каждый последующий день увеличивает время пребывания на солнце на 3 минуты. Напишите код, который позволит вычислять, сколько минут питон будет тратить на солнечные ванны в некоторый выбранный день.\n",
        "\n",
        "*Внимание:* ваш код должен выводить номер дня и число минут. Использовать циклы нельзя, в задании предполагается многократный запуск ячеек с кодом."
      ]
    },
    {
      "cell_type": "code",
      "metadata": {
        "colab": {
          "base_uri": "https://localhost:8080/"
        },
        "id": "hOVMXCXo9Yhi",
        "outputId": "22fb37b6-7103-4141-e203-00020d2a0b31"
      },
      "source": [
        "a = input()\n",
        "b = int(a)\n",
        "c = 1 + 3*(b-1)\n",
        "print(b,\"день\",c,\"минут\")"
      ],
      "execution_count": null,
      "outputs": [
        {
          "output_type": "stream",
          "name": "stdout",
          "text": [
            "1\n",
            "1 день 1 минут\n"
          ]
        }
      ]
    },
    {
      "cell_type": "markdown",
      "metadata": {
        "id": "fMzcBz-A4z7X"
      },
      "source": [
        "### Задание 7 (цифровое)\n",
        "\n",
        "Питон выполз на улицу погулять и решил поиграть: просил прохожих назвать какую-нибудь цифру (т.е. ввести ее с клавиатуры) и приписывал эту цифру к цифре, которую назвал предыдущий прохожий. Напишите код, который позволит определить, какое число получится после опроса 4 прохожих, если известно, что первый прохожий назвал цифру 5. \n",
        "Задача не подразумевает использование циклов; запускать код несколько раз / копировать ячейки можно.\n",
        "\n",
        "*Пример-пояснение:* первый назвал цифру 5, второй ‒ цифру 6, третий ‒ 3. Получили число 563.\n",
        "\n",
        "*Подсказка:* для склеивания строк (такая операция называется конкатенацией) в Python используется `+`:"
      ]
    },
    {
      "cell_type": "code",
      "metadata": {
        "colab": {
          "base_uri": "https://localhost:8080/"
        },
        "id": "apvbMwRn4z7X",
        "outputId": "c50ae45a-25ff-4418-b190-3c88d9a31ae9"
      },
      "source": [
        "a = input()\n",
        "b = input()\n",
        "c = input()\n",
        "d = input()\n",
        "e=a+b+c+d\n",
        "print(e)"
      ],
      "execution_count": null,
      "outputs": [
        {
          "output_type": "stream",
          "name": "stdout",
          "text": [
            "5\n",
            "6\n",
            "4\n",
            "8\n",
            "5648\n"
          ]
        }
      ]
    }
  ]
}