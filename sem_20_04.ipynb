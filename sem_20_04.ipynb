{
  "cells": [
    {
      "cell_type": "markdown",
      "metadata": {
        "id": "05Hq_vIGOd5D"
      },
      "source": [
        "## Основы программирования в Python\n",
        "\n",
        "*Алла Тамбовцева, НИУ ВШЭ*\n",
        "\n",
        "## Семинар 3"
      ]
    },
    {
      "cell_type": "markdown",
      "metadata": {
        "id": "iN47eh7POd5K"
      },
      "source": [
        "### Задача 1\n",
        "\n",
        "Напишите программу, которая запрашивает у пользователя его фамилию, имя, отчество, введенные в одну строчку через пробел, и выводит на экран сообщения:\n",
        "\n",
        "    Ваша фамилия: фамилия\n",
        "    Ваше имя: имя\n",
        "    Ваше отчество: отчество\n",
        "\n",
        "**Пример:**\n",
        "\n",
        "*Входные данные:*\n",
        "\n",
        "    Введите Ваши ФИО: Тамбовцева Алла Андреевна\n",
        "\n",
        "*Выходные данные:*\n",
        "\n",
        "    Ваша фамилия: Тамбовцева\n",
        "    Ваше имя: Алла\n",
        "    Ваше отчество: Андреевна"
      ]
    },
    {
      "cell_type": "code",
      "source": [
        "fio = input('Введите Ваши ФИО: ')\n",
        "fio = fio.split( )\n",
        "print(\"Ваша фамилия:\", fio[0])\n",
        "print(\"Ваше имя:\", fio[1])\n",
        "print(\"Ваше отчество:\", fio[2])"
      ],
      "metadata": {
        "colab": {
          "base_uri": "https://localhost:8080/"
        },
        "id": "m8NlBRhcOjYN",
        "outputId": "19007de6-6fbb-4913-aa72-dab3d9e1258a"
      },
      "execution_count": 4,
      "outputs": [
        {
          "output_type": "stream",
          "name": "stdout",
          "text": [
            "Введите Ваши ФИО: Смирнова Вера Владимировна\n",
            "Ваша фамилия: Смирнова\n",
            "Ваше имя: Вера\n",
            "Ваше отчество: Владимировна\n"
          ]
        }
      ]
    },
    {
      "cell_type": "markdown",
      "metadata": {
        "id": "HtRrVbPQOd5M"
      },
      "source": [
        "### Задача 2\n",
        "\n",
        "Напишите программу, которая берет строку \"1; 2; 3; 100\" и возвращает:\n",
        "\n",
        "* список из целых чисел\n",
        "* список из чисел с плавающей точкой"
      ]
    },
    {
      "cell_type": "code",
      "source": [
        "a = input()\n",
        "a2 = a.split()\n",
        "b = a2.copy()\n",
        "a3 =[]\n",
        "for i in a2:\n",
        "  a3.append(int(i))\n",
        "print(a3)\n",
        "b2 = []\n",
        "for i in b:\n",
        "  b2.append(float(i))\n",
        "print(b2)"
      ],
      "metadata": {
        "colab": {
          "base_uri": "https://localhost:8080/"
        },
        "id": "JT4bd_mWQQ0i",
        "outputId": "f8b16999-e9a0-4380-cf50-32a9393a86ba"
      },
      "execution_count": 14,
      "outputs": [
        {
          "output_type": "stream",
          "name": "stdout",
          "text": [
            "1 2 3 100\n",
            "[1, 2, 3, 100]\n",
            "[1.0, 2.0, 3.0, 100.0]\n"
          ]
        }
      ]
    },
    {
      "cell_type": "markdown",
      "metadata": {
        "id": "I01KHCymOd5N"
      },
      "source": [
        "### Задача 3\n",
        "\n",
        "Напишите программу, которая запрашивает у пользователя номер мобильного телефона, введенный через дефис, а возвращает номер, записанный без дефисов и пробелов.\n",
        "\n",
        "*Входные данные:*\n",
        "\n",
        "    8-900-123-45-67\n",
        "\n",
        "*Выходные данные:*\n",
        "\n",
        "    89001234567"
      ]
    },
    {
      "cell_type": "code",
      "source": [
        "n = input('Введите свой номер телефона (через дефис): ')\n",
        "a = n.split('-')\n",
        "''.join(a)"
      ],
      "metadata": {
        "colab": {
          "base_uri": "https://localhost:8080/",
          "height": 54
        },
        "id": "J46EB_C6TzoB",
        "outputId": "16b84a8f-9624-4dbf-9e7a-9cbc0610a5f6"
      },
      "execution_count": 16,
      "outputs": [
        {
          "name": "stdout",
          "output_type": "stream",
          "text": [
            "Введите свой номер телефона (через дефис): 8-900-123-45-67\n"
          ]
        },
        {
          "output_type": "execute_result",
          "data": {
            "application/vnd.google.colaboratory.intrinsic+json": {
              "type": "string"
            },
            "text/plain": [
              "'89001234567'"
            ]
          },
          "metadata": {},
          "execution_count": 16
        }
      ]
    },
    {
      "cell_type": "markdown",
      "metadata": {
        "id": "2kdLrkuqOd5O"
      },
      "source": [
        "### Задача 4\n",
        "\n",
        "Напишите программу, которая принимает на вход список L, в котором хранятся значения доходов домохозяйств за месяц, а возвращает новый список L2 ‒ список логарифмированных значений доходов."
      ]
    },
    {
      "cell_type": "code",
      "source": [
        "L = [100,200,300,400]\n",
        "import math\n",
        "L2 = [math.log(i,10) for i in L]\n",
        "L2"
      ],
      "metadata": {
        "colab": {
          "base_uri": "https://localhost:8080/"
        },
        "id": "5dnVubHKU2uS",
        "outputId": "74d8240b-bf19-4bd5-b90c-344ce6daf26e"
      },
      "execution_count": 22,
      "outputs": [
        {
          "output_type": "execute_result",
          "data": {
            "text/plain": [
              "[2.0, 2.301029995663981, 2.477121254719662, 2.602059991327962]"
            ]
          },
          "metadata": {},
          "execution_count": 22
        }
      ]
    },
    {
      "cell_type": "markdown",
      "metadata": {
        "id": "tSyF1jFcOd5O"
      },
      "source": [
        "### Задача 5\n",
        "\n",
        "Напишите программу, которая принимает на вход список слов такого вида:\n",
        "\n",
        "    words = [\"Speak \",\"to\", \"me \", \"of\", \"Florence\" ,\"And \", \"of\", \"the\", \"Renaissance\"]\n",
        "\n",
        "а возвращает список\n",
        "\n",
        "    words_clean = [\"speak\", \"to\", \"me\", \"of\", \"florence\", \"and\", \"of\", \"the\", \"renaissance\"]\n",
        "\n",
        "Другими словами, программа убирает пробелы в словах и приводит все слова к нижнему регистру.\n",
        "\n",
        "**Подсказка:** запросите `help()`  по  методам `strip()` и `lower()`."
      ]
    },
    {
      "cell_type": "code",
      "source": [
        "words = [\"Speak \",\"to\", \"me \", \"of\", \"Florence\" ,\"And \", \"of\", \"the\", \"Renaissance\"]\n",
        "a = [words[i].strip() for i in range(len(words))]\n",
        "a1 = [a[i].lower() for i in range(len(a))]\n",
        "a1"
      ],
      "metadata": {
        "colab": {
          "base_uri": "https://localhost:8080/"
        },
        "id": "nROnajK5VzrR",
        "outputId": "5dd2f0ba-d4f7-403e-aad0-ef734c71cbe3"
      },
      "execution_count": 30,
      "outputs": [
        {
          "output_type": "execute_result",
          "data": {
            "text/plain": [
              "['speak', 'to', 'me', 'of', 'florence', 'and', 'of', 'the', 'renaissance']"
            ]
          },
          "metadata": {},
          "execution_count": 30
        }
      ]
    }
  ],
  "metadata": {
    "kernelspec": {
      "display_name": "Python 3",
      "language": "python",
      "name": "python3"
    },
    "language_info": {
      "codemirror_mode": {
        "name": "ipython",
        "version": 3
      },
      "file_extension": ".py",
      "mimetype": "text/x-python",
      "name": "python",
      "nbconvert_exporter": "python",
      "pygments_lexer": "ipython3",
      "version": "3.6.5"
    },
    "colab": {
      "name": "sem-20-04.ipynb",
      "provenance": []
    }
  },
  "nbformat": 4,
  "nbformat_minor": 0
}